{
 "cells": [
  {
   "cell_type": "markdown",
   "id": "406fc0da-e56e-4517-a9f6-135f0e13e126",
   "metadata": {},
   "source": [
    "# Q1. Which keyword is used to create a function? Create a function to return a list of odd numbers in the \n",
    "# range of 1 to 25.\n"
   ]
  },
  {
   "cell_type": "markdown",
   "id": "4d6a030d-6740-4de2-94e4-0b284ce5f1d5",
   "metadata": {},
   "source": [
    "# Answer\n",
    "In most programming languages, including Python, the keyword used to create a function is def. Here's how you can create a function in Python that returns a list of odd numbers in the range of 1 to 25:\n",
    "\n",
    "python\n",
    "Copy code\n",
    "def get_odd_numbers():\n",
    "    odd_numbers = []\n",
    "    for number in range(1, 26):\n",
    "        if number % 2 != 0:\n",
    "            odd_numbers.append(number)\n",
    "    return odd_numbers\n",
    "\n",
    "# Call the function and print the result\n",
    "odd_numbers_list = get_odd_numbers()\n",
    "print(odd_numbers_list)\n",
    "In this example, the def keyword is used to define a function named get_odd_numbers(). The function calculates and returns a list of odd numbers in the range of 1 to 25. The numbers are checked for oddness using the modulo operator %. The result is then printed to the console.#"
   ]
  },
  {
   "cell_type": "markdown",
   "id": "edacb458-adba-4445-90ee-2763ca961bb1",
   "metadata": {},
   "source": [
    "# Q2. Why *args and **kwargs is used in some functions? Create a function each for *args and **kwargs\n",
    "# to demonstrate their use."
   ]
  },
  {
   "cell_type": "markdown",
   "id": "23c5d322-5dec-48ec-89d3-a33aaaf3c01e",
   "metadata": {
    "tags": []
   },
   "source": [
    "# Answer 2\n",
    "# In Python, *args and **kwargs are used to work with a variable number of arguments in functions.\n",
    "\n",
    "*args: This syntax allows a function to accept a variable number of non-keyword arguments. The name args is a convention, and you can use any name you like with the asterisk *. The arguments are passed as a tuple.\n",
    "\n",
    "**kwargs: This syntax allows a function to accept a variable number of keyword arguments (i.e., arguments specified with their corresponding parameter names). The name kwargs is a convention, and like with *args, you can use any name you prefer with the double asterisk **. The arguments are passed as a dictionary where the keys are the parameter names and the values are the corresponding argument values.\n",
    "\n",
    "Here are examples of functions using *args and **kwargs:\n",
    "\n",
    "python\n",
    "Copy code\n",
    "# Example using *args\n",
    "def print_args(*args):\n",
    "    for arg in args:\n",
    "        print(arg)\n",
    "\n",
    "print_args(1, 2, 3, \"hello\", [4, 5])\n",
    "\n",
    "# Example using **kwargs\n",
    "def print_kwargs(**kwargs):\n",
    "    for key, value in kwargs.items():\n",
    "        print(f\"{key}: {value}\")\n",
    "\n",
    "print_kwargs(name=\"Alice\", age=30, city=\"Wonderland\")\n",
    "In the first example, the print_args function accepts any number of arguments and prints them one by one. In the second example, the print_kwargs function accepts keyword arguments and prints them along with their values. When calling these functions, you can provide as many arguments or keyword arguments as you want, and the functions will handle them accordingly."
   ]
  },
  {
   "cell_type": "markdown",
   "id": "a83e6e5c-5f18-4040-9a55-423f54d920ce",
   "metadata": {},
   "source": [
    "# Q3. What is an iterator in python? Name the method used to initialise the iterator object and the method\n",
    "# used for iteration. Use these methods to print the first five elements of the given list [2, 4, 6, 8, 10, 12, 14,\n",
    "16, 18, 20]."
   ]
  },
  {
   "cell_type": "markdown",
   "id": "1b3ff950-7caf-4944-8eeb-70d07b50222f",
   "metadata": {},
   "source": [
    "# Answer 3 :"
   ]
  },
  {
   "cell_type": "markdown",
   "id": "f8b93e25-279c-48ea-9d58-6e5a7a3c8053",
   "metadata": {},
   "source": [
    "# In Python, an iterator is an object that implements the iterator protocol, which consists of two methods: __iter__() and __next__(). Iterators are used to iterate over a sequence of items, like elements in a list, without the need to load all the elements into memory at once.\n",
    "\n",
    "# __iter__(): This method initializes the iterator object and returns itself. It's called when you start iterating over the sequence.\n",
    "\n",
    "# __next__(): This method returns the next item in the sequence. If there are no more items, it raises the StopIteration exception.\n",
    "\n",
    "# You can also use the iter() function to create an iterator from an iterable (like a list) and the next() function to retrieve the next element from the iterator.\n",
    "\n",
    "# Here's how you can use these methods to print the first five elements of the given list [2, 4, 6, 8, 10, 12, 14, 16, 18, 20]:"
   ]
  },
  {
   "cell_type": "code",
   "execution_count": 6,
   "id": "384661d9-3dd9-49b4-81e8-2dd5021ad951",
   "metadata": {},
   "outputs": [
    {
     "name": "stdout",
     "output_type": "stream",
     "text": [
      "2\n",
      "4\n",
      "6\n",
      "8\n",
      "10\n"
     ]
    }
   ],
   "source": [
    "class CustomIterator:\n",
    "    def __init__(self, data):\n",
    "        self.data = data\n",
    "        self.index = 0\n",
    "\n",
    "    def __iter__(self):\n",
    "        return self\n",
    "\n",
    "    def __next__(self):\n",
    "        if self.index < len(self.data):\n",
    "            item = self.data[self.index]\n",
    "            self.index += 1\n",
    "            return item\n",
    "        else:\n",
    "            raise StopIteration\n",
    "\n",
    "# Create an iterator object\n",
    "my_list = [2, 4, 6, 8, 10, 12, 14, 16, 18, 20]\n",
    "my_iterator = CustomIterator(my_list)\n",
    "\n",
    "# Iterate and print the first five elements\n",
    "for _ in range(5):\n",
    "    print(next(my_iterator))\n"
   ]
  },
  {
   "cell_type": "markdown",
   "id": "3bfdf812-35fd-4462-b102-5cfa73a55412",
   "metadata": {},
   "source": [
    "# Q4. What is a generator function in python? Why yield keyword is used? Give an example of a generator\n",
    "# function."
   ]
  },
  {
   "cell_type": "markdown",
   "id": "e01b4963-95b5-47f1-a61e-32c14448e6aa",
   "metadata": {},
   "source": [
    "# Answer 4"
   ]
  },
  {
   "cell_type": "markdown",
   "id": "3742078c-09dd-4248-82c5-a8e5c380029d",
   "metadata": {},
   "source": [
    "# A generator function in Python is a special type of function that uses the yield keyword to create an iterator. Unlike regular functions that execute and return a value, generator functions yield a series of values one at a time as they are requested, allowing you to iterate over a potentially infinite sequence without storing all the values in memory at once.\n",
    "\n",
    "# The primary advantage of using generator functions and the yield keyword is memory efficiency. Since generator functions produce values on-the-fly, they only need to keep track of their current state rather than storing the entire sequence in memory. This is particularly useful when dealing with large datasets or sequences.\n",
    "\n",
    "# The yield keyword is used in a generator function to temporarily suspend the function's execution and yield a value to the caller. The function's state is saved, and it can be resumed from where it left off when the next value is requested.\n",
    "\n",
    "# Here's an example of a generator function that generates a sequence of squares:"
   ]
  },
  {
   "cell_type": "code",
   "execution_count": 7,
   "id": "59559c96-939e-4142-939a-4ca4636fd371",
   "metadata": {},
   "outputs": [
    {
     "name": "stdout",
     "output_type": "stream",
     "text": [
      "0\n",
      "1\n",
      "4\n",
      "9\n",
      "16\n"
     ]
    }
   ],
   "source": [
    "def square_generator(n):\n",
    "    for i in range(n):\n",
    "        yield i ** 2\n",
    "\n",
    "# Create a generator object\n",
    "squares = square_generator(5)\n",
    "\n",
    "# Iterate over the generated squares\n",
    "for square in squares:\n",
    "    print(square)\n"
   ]
  },
  {
   "cell_type": "markdown",
   "id": "7e06e5ba-3ecc-4279-a650-da34d16d92c1",
   "metadata": {},
   "source": [
    "# In this example, the square_generator function yields the square of each number from 0 to n-1. When you create a generator object by calling square_generator(5), it doesn't immediately execute the function. Instead, it returns a generator that can be iterated over. The for loop then iterates over the generator, and for each iteration, the function's execution is paused at the yield statement until the next value is requested. This results in the squares being generated on-the-fly as you iterate over the generator."
   ]
  },
  {
   "cell_type": "markdown",
   "id": "d2bb6480-5581-4fd4-9471-058dbd4b8c46",
   "metadata": {},
   "source": [
    "# Q5. Create a generator function for prime numbers less than 1000. Use the next() method to print the\n",
    "# first 20 prime numbers."
   ]
  },
  {
   "cell_type": "markdown",
   "id": "51e0e4bc-c296-4f46-bfda-9d66c68d8549",
   "metadata": {},
   "source": [
    "# ANSWER :5 "
   ]
  },
  {
   "cell_type": "markdown",
   "id": "eb0ded1e-c667-4d4c-9d2a-073b7abe337e",
   "metadata": {},
   "source": [
    "#  here's an example of a generator function that generates prime numbers less than 1000 and uses the next() method to print the first 20 prime numbers:"
   ]
  },
  {
   "cell_type": "code",
   "execution_count": null,
   "id": "aa93b733-030a-42e9-994e-0b96a571f2c0",
   "metadata": {},
   "outputs": [],
   "source": [
    "def is_prime(num):\n",
    "    if num <= 1:\n",
    "        return False\n",
    "    if num <= 3:\n",
    "        return True\n",
    "    if num % 2 == 0 or num % 3 == 0:\n",
    "        return False\n",
    "    i = 5\n",
    "    while i * i <= num:\n",
    "        if num % i == 0 or num % (i + 2) == 0:\n",
    "            return False\n",
    "        i += 6\n",
    "    return True\n",
    "\n",
    "def prime_generator(limit):\n",
    "    num = 2\n",
    "    count = 0\n",
    "    while count < limit:\n",
    "        if is_prime(num):\n",
    "            yield num\n",
    "            count += 1\n",
    "        num += 1\n",
    "\n",
    "# Create a prime number generator\n",
    "prime_gen = prime_generator(20)\n",
    "\n",
    "# Print the first 20 prime numbers using next()\n",
    "for _ in range(20):\n",
    "    print(next(prime_gen))\n"
   ]
  },
  {
   "cell_type": "markdown",
   "id": "15411b07-ffc4-4667-87ee-c55282067fee",
   "metadata": {},
   "source": [
    "# In this example, the is_prime function checks if a number is prime. The prime_generator function generates prime numbers by repeatedly checking numbers starting from 2 and using the is_prime function. The generator yields prime numbers one by one until the specified limit (20 in this case) is reached. The for loop then uses the next() method to print the first 20 prime numbers."
   ]
  },
  {
   "cell_type": "markdown",
   "id": "da353ec3-f61f-4e12-aade-cbcb7742ecbc",
   "metadata": {},
   "source": [
    "# Q6. Write a python program to print the first 10 Fibonacci numbers using a while loop."
   ]
  },
  {
   "cell_type": "markdown",
   "id": "1dec2006-4357-4271-83c4-d7c0d5bbf215",
   "metadata": {},
   "source": [
    "# Answer 6:"
   ]
  },
  {
   "cell_type": "markdown",
   "id": "b9832c71-32f9-46d2-a7d2-59e60df635bd",
   "metadata": {},
   "source": [
    "#  Python program that prints the first 10 Fibonacci numbers using a while loop:"
   ]
  },
  {
   "cell_type": "code",
   "execution_count": null,
   "id": "dd6438d8-70ba-4570-b9d4-666960fe9579",
   "metadata": {},
   "outputs": [],
   "source": [
    "def fibonacci_sequence(n):\n",
    "    fib_numbers = [0, 1]\n",
    "    while len(fib_numbers) < n:\n",
    "        next_fib = fib_numbers[-1] + fib_numbers[-2]\n",
    "        fib_numbers.append(next_fib)\n",
    "    return fib_numbers\n",
    "fibonacci_numbers = fibonacci_sequence(10)\n",
    "for num in fibonacci_numbers:\n",
    "    print(num)"
   ]
  },
  {
   "cell_type": "markdown",
   "id": "10a13dcf-aecc-4904-8e0d-95e695588a1b",
   "metadata": {},
   "source": [
    "# in this program, the fibonacci_sequence function generates the Fibonacci numbers up to the specified limit n. The sequence starts with [0, 1], and in each iteration of the while loop, the next Fibonacci number is calculated by summing up the last two numbers in the list. The loop continues until the desired number of Fibonacci numbers is generated. Finally, the for loop is used to print the first 10 Fibonacci numbers."
   ]
  },
  {
   "cell_type": "markdown",
   "id": "0ae527ed-b94a-4ef8-ad6d-11c1cb25a248",
   "metadata": {},
   "source": [
    "# Q7. Write a List Comprehension to iterate through the given string: ‘pwskills’.\n",
    "# Expected output: ['p', 'w', 's', 'k', 'i', 'l', 'l', 's']"
   ]
  },
  {
   "cell_type": "markdown",
   "id": "5218ef27-1c8d-4e08-941c-223dc099665b",
   "metadata": {},
   "source": [
    "# Answer 7:"
   ]
  },
  {
   "cell_type": "code",
   "execution_count": null,
   "id": "497c124e-8352-48b7-92be-ebfbe43da6a2",
   "metadata": {},
   "outputs": [],
   "source": [
    "input_string = 'pwskills'\n",
    "result = [char for char in input_string if char in 'wskil']\n",
    "print(result)\n"
   ]
  },
  {
   "cell_type": "markdown",
   "id": "cf1ccef9-6641-4be3-95c0-02d11c59c048",
   "metadata": {},
   "source": [
    "# In this list comprehension, each character char in the input_string is checked if it exists in the string 'wskil'. If it does, the character is included in the resulting list. This results in the characters 'p', 'w', 's', 'k', 'i', 'l', 'l', 's' being included in the output list, which matches the expected output."
   ]
  },
  {
   "cell_type": "markdown",
   "id": "95ee2344-ee27-4257-b6c1-f0b3103cde9f",
   "metadata": {},
   "source": [
    "# Q8. Write a python program to check whether a given number is Palindrome or not using a while loop."
   ]
  },
  {
   "cell_type": "markdown",
   "id": "18339bac-18e9-4800-9564-b3c8a28f7396",
   "metadata": {},
   "source": [
    "# Answer 8:"
   ]
  },
  {
   "cell_type": "code",
   "execution_count": null,
   "id": "13d8cf7b-81a1-4109-ba19-b2d54d8f98fa",
   "metadata": {},
   "outputs": [],
   "source": [
    "def is_palindrome(number):\n",
    "    original_number = number\n",
    "    reversed_number = 0\n",
    "    \n",
    "    while number > 0:\n",
    "        digit = number % 10\n",
    "        reversed_number = reversed_number * 10 + digit\n",
    "        number //= 10\n",
    "    \n",
    "    return original_number == reversed_number\n",
    "\n",
    "# Input a number from the user\n",
    "num = int(input(\"Enter a number: \"))\n",
    "\n",
    "if is_palindrome(num):\n",
    "    print(f\"{num} is a palindrome.\")\n",
    "else:\n",
    "    print(f\"{num} is not a palindrome.\")\n"
   ]
  },
  {
   "cell_type": "markdown",
   "id": "bb255cca-e699-4044-aca4-0519e403ba89",
   "metadata": {},
   "source": [
    "# In this program, the is_palindrome function takes a number as input and uses a while loop to reverse the digits of the number and construct a reversed number. The original number is stored in original_number before the loop begins. After reversing the digits, if the reversed number matches the original number, the function returns True, indicating that the number is a palindrome; otherwise, it returns False.\n",
    "\n",
    "# The user is prompted to input a number, and then the program checks whether the entered number is a palindrome or not."
   ]
  },
  {
   "cell_type": "markdown",
   "id": "bbe6f18d-c364-48e4-9a78-66eeba852130",
   "metadata": {},
   "source": [
    "# Q9. Write a code to print odd numbers from 1 to 100 using list comprehension."
   ]
  },
  {
   "cell_type": "markdown",
   "id": "6ea64177-ee36-433d-8d07-f30cb8972920",
   "metadata": {},
   "source": [
    "# Answer:"
   ]
  },
  {
   "cell_type": "code",
   "execution_count": null,
   "id": "6e389e5b-55f5-43bd-a9e0-c67473b3f614",
   "metadata": {},
   "outputs": [],
   "source": [
    "odd_numbers = [num for num in range(1, 101) if num % 2 != 0]\n",
    "print(odd_numbers)\n"
   ]
  },
  {
   "cell_type": "code",
   "execution_count": null,
   "id": "f3790f4d-215a-4a42-915f-5bf81208d4dc",
   "metadata": {},
   "outputs": [],
   "source": [
    "# "
   ]
  },
  {
   "cell_type": "code",
   "execution_count": null,
   "id": "1392bf35-179c-4614-93eb-1e000e0dc1b4",
   "metadata": {},
   "outputs": [],
   "source": []
  },
  {
   "cell_type": "code",
   "execution_count": null,
   "id": "13fe0498-34f0-4fdf-ba92-0c7ed4594dd9",
   "metadata": {},
   "outputs": [],
   "source": []
  },
  {
   "cell_type": "code",
   "execution_count": null,
   "id": "8b5d3652-346d-406c-8ae6-452768e3c5e6",
   "metadata": {},
   "outputs": [],
   "source": []
  },
  {
   "cell_type": "code",
   "execution_count": null,
   "id": "1263256a-eee7-49a4-adeb-2e3870df272a",
   "metadata": {},
   "outputs": [],
   "source": []
  },
  {
   "cell_type": "code",
   "execution_count": null,
   "id": "076be750-4f1a-42cc-9f3c-84c37c17ece9",
   "metadata": {},
   "outputs": [],
   "source": []
  },
  {
   "cell_type": "code",
   "execution_count": null,
   "id": "a670dbd3-dc2f-4941-917c-a23c7907b377",
   "metadata": {},
   "outputs": [],
   "source": []
  },
  {
   "cell_type": "code",
   "execution_count": null,
   "id": "d00497dc-fb12-445b-bef4-34ef08c8f6e1",
   "metadata": {},
   "outputs": [],
   "source": []
  },
  {
   "cell_type": "code",
   "execution_count": null,
   "id": "7cb3ba23-b2d7-4bce-9856-4d3d5b949988",
   "metadata": {},
   "outputs": [],
   "source": []
  },
  {
   "cell_type": "code",
   "execution_count": null,
   "id": "8cb81340-1a1a-4b5a-b082-c35fab999e28",
   "metadata": {},
   "outputs": [],
   "source": []
  },
  {
   "cell_type": "code",
   "execution_count": null,
   "id": "7b6ea21a-9e6a-4948-9ace-e34cd681dd13",
   "metadata": {},
   "outputs": [],
   "source": []
  },
  {
   "cell_type": "code",
   "execution_count": null,
   "id": "9afb349f-6d54-4eee-82db-14692991f68a",
   "metadata": {},
   "outputs": [],
   "source": []
  },
  {
   "cell_type": "markdown",
   "id": "3eeaa1fa-cc94-4b25-a966-48f8664fa8d3",
   "metadata": {},
   "source": []
  },
  {
   "cell_type": "code",
   "execution_count": null,
   "id": "d866090b-3929-4f6c-8136-052fc9c41470",
   "metadata": {},
   "outputs": [],
   "source": []
  },
  {
   "cell_type": "code",
   "execution_count": null,
   "id": "8efb73d2-9728-4cb9-a9e1-1b2fff70b99b",
   "metadata": {},
   "outputs": [],
   "source": []
  },
  {
   "cell_type": "code",
   "execution_count": null,
   "id": "f4bd0f97-e398-4fd8-8ea4-851d46124a33",
   "metadata": {},
   "outputs": [],
   "source": []
  }
 ],
 "metadata": {
  "kernelspec": {
   "display_name": "Python 3 (ipykernel)",
   "language": "python",
   "name": "python3"
  },
  "language_info": {
   "codemirror_mode": {
    "name": "ipython",
    "version": 3
   },
   "file_extension": ".py",
   "mimetype": "text/x-python",
   "name": "python",
   "nbconvert_exporter": "python",
   "pygments_lexer": "ipython3",
   "version": "3.10.8"
  }
 },
 "nbformat": 4,
 "nbformat_minor": 5
}
